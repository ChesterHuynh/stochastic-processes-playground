{
 "cells": [
  {
   "cell_type": "markdown",
   "metadata": {},
   "source": [
    "# SARIMA Models"
   ]
  },
  {
   "cell_type": "markdown",
   "metadata": {},
   "source": [
    "## Autoregressive (AR) Models\n",
    "An AR model of order $p$, denoted AR($p$), is a model where the current time point is dependent on the previous $p$ time points. Formally, the model is expressed as\n",
    "$$\n",
    "X_t = c + \\sum_{i=1}^p \\alpha_i X_{t-i} + \\epsilon_t\n",
    "$$\n",
    "where $X_{t-i}$ are lag variables, $c$ is a constant, $\\alpha_i$ are paremeters, and $\\epsilon_t$ is white noise.\n",
    "\n",
    "Equivalently, the model can be expressed with lag operators which maps current time points to previous time points. Lag operators $L^i$ are defined by\n",
    "$$\n",
    "L^i[X_t] = X_{t-i}\n",
    "$$\n",
    "which can be used to give us the expression\n",
    "$$\n",
    "\\left(1 - \\sum_{i=1}^p \\alpha_i L^i \\right) X_t = c + \\epsilon_t\n",
    "$$"
   ]
  },
  {
   "cell_type": "code",
   "execution_count": 2,
   "metadata": {},
   "outputs": [
    {
     "output_type": "display_data",
     "data": {
      "text/plain": "<IPython.core.display.Javascript object>",
      "application/javascript": "\n            setTimeout(function() {\n                var nbb_cell_id = 2;\n                var nbb_unformatted_code = \"%load_ext nb_black\";\n                var nbb_formatted_code = \"%load_ext nb_black\";\n                var nbb_cells = Jupyter.notebook.get_cells();\n                for (var i = 0; i < nbb_cells.length; ++i) {\n                    if (nbb_cells[i].input_prompt_number == nbb_cell_id) {\n                        if (nbb_cells[i].get_text() == nbb_unformatted_code) {\n                             nbb_cells[i].set_text(nbb_formatted_code);\n                        }\n                        break;\n                    }\n                }\n            }, 500);\n            "
     },
     "metadata": {}
    }
   ],
   "source": [
    "%load_ext nb_black"
   ]
  },
  {
   "cell_type": "code",
   "execution_count": 3,
   "metadata": {},
   "outputs": [
    {
     "output_type": "display_data",
     "data": {
      "text/plain": "<IPython.core.display.Javascript object>",
      "application/javascript": "\n            setTimeout(function() {\n                var nbb_cell_id = 3;\n                var nbb_unformatted_code = \"import matplotlib.pyplot as plt\\nimport numpy as np\\nimport seaborn as sns\\n\\n%matplotlib inline\";\n                var nbb_formatted_code = \"import matplotlib.pyplot as plt\\nimport numpy as np\\nimport seaborn as sns\\n\\n%matplotlib inline\";\n                var nbb_cells = Jupyter.notebook.get_cells();\n                for (var i = 0; i < nbb_cells.length; ++i) {\n                    if (nbb_cells[i].input_prompt_number == nbb_cell_id) {\n                        if (nbb_cells[i].get_text() == nbb_unformatted_code) {\n                             nbb_cells[i].set_text(nbb_formatted_code);\n                        }\n                        break;\n                    }\n                }\n            }, 500);\n            "
     },
     "metadata": {}
    }
   ],
   "source": [
    "import matplotlib.pyplot as plt\n",
    "import numpy as np\n",
    "import seaborn as sns\n",
    "\n",
    "%matplotlib inline"
   ]
  },
  {
   "cell_type": "markdown",
   "metadata": {},
   "source": [
    "## Moving-Average (MA) Models\n",
    "An MA model of order $q$, denoted MA($q$), is a model where the current time point is dependent on the previous $q$ noise terms. Formally, the model is expressed as\n",
    "$$\n",
    "X_t = \\mu + \\epsilon_t + \\sum_{i=1}^q \\beta_i \\epsilon_{t-i}\n",
    "$$\n",
    "where $\\mu = \\mathrm{E}[X_t]$, $\\beta_i$ are additional model parameters, and $\\epsilon_{t-i}$ are again white noise. Note, it is assumed $\\epsilon_t \\overset{iid}{\\sim} \\mathcal{N}(0, \\sigma^2)$ for all $t$."
   ]
  },
  {
   "cell_type": "markdown",
   "metadata": {},
   "source": [
    "## Autoregressive Moving-Average (ARMA) Models\n",
    "An ARMA model of order ($p$, $q$), denoted ARMA($p$, $q$), is a model where the current time point is dependent on the previous $p$ time points and previous $q$ noise terms. Formally, the model is expressed as\n",
    "$$\n",
    "X_t = c + \\epsilon_t + \\sum_{i=1}^p \\alpha_i X_{t-i} + \\sum_{i=1}^q \\beta_i \\epsilon_{t-i}\n",
    "$$\n",
    "or equivalently\n",
    "$$\n",
    "\\left(1 - \\sum_{i=1}^p \\alpha_i L^i \\right)X_t = \\left(1 + \\sum_{i=1}^q \\beta_i L^i \\right) \\epsilon_t\n",
    "$$"
   ]
  },
  {
   "cell_type": "markdown",
   "metadata": {},
   "source": [
    "## Autoregressive Integrated Moving-Average (ARIMA) Models\n",
    "An ARIMA model of order ($p$, $d$, $q$), denoted ARIMA($p$, $d$, $q$), is like an ARMA($p+d$, $q$) model where it is assumed that the polynomial $\\left(1 - \\sum_{i=1}^p \\alpha_i L^i\\right)$ has a unit root, i.e. a factor of $(1 - L)$ of multiplicity $d$.\n",
    "\n",
    "An ARMA($p'$, $q$) model is written\n",
    "$$\n",
    "\\left(1 - \\sum_{i=1}^{p'} \\alpha_i L^i \\right)X_t = \\left(1 + \\sum_{i=1}^q \\beta_i L^i \\right) \\epsilon_t\n",
    "$$\n",
    "but with the polynomial factorization property, $(1-L)$ can be factored out $d$ times from the the polynomial on the LHS, giving\n",
    "$$\n",
    "\\left(1 - \\sum_{i=1}^{p'} \\alpha_i L^i \\right) = \\left(1 - \\sum_{i=1}^{p'-d} \\gamma_i L^i \\right)(1-L)^d\n",
    "$$\n",
    "The ARIMA($p$, $d$, $q$) model with $p = p' - d$ is thus written\n",
    "$$\n",
    "\\left(1 - \\sum_{i=1}^{p} \\gamma_i L^i \\right)(1-L)^d X_t = \\left(1 + \\sum_{i=1}^q \\beta_i L^i \\right) \\epsilon_t\n",
    "$$\n",
    "When there is a constant $c$ introduced into the model, then the ARIMA($p$, $d$, $q$) model is said to have drift:\n",
    "$$\n",
    "\\left(1 - \\sum_{i=1}^{p} \\gamma_i L^i \\right)(1-L)^d X_t = c + \\left(1 + \\sum_{i=1}^q \\beta_i L^i \\right) \\epsilon_t\n",
    "$$\n",
    "giving a drift of $\\frac{c}{1 - \\sum_{i=1}^p \\gamma_i}$."
   ]
  },
  {
   "cell_type": "code",
   "execution_count": null,
   "metadata": {},
   "outputs": [],
   "source": []
  }
 ],
 "metadata": {
  "language_info": {
   "codemirror_mode": {
    "name": "ipython",
    "version": 3
   },
   "file_extension": ".py",
   "mimetype": "text/x-python",
   "name": "python",
   "nbconvert_exporter": "python",
   "pygments_lexer": "ipython3",
   "version": "3.8.2-final"
  },
  "orig_nbformat": 2,
  "kernelspec": {
   "name": "wgsegment",
   "display_name": "wgsegment"
  }
 },
 "nbformat": 4,
 "nbformat_minor": 2
}